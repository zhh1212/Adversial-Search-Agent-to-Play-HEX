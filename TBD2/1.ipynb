{
 "cells": [
  {
   "cell_type": "code",
   "execution_count": 3,
   "metadata": {},
   "outputs": [
    {
     "name": "stdout",
     "output_type": "stream",
     "text": [
      "12\n"
     ]
    }
   ],
   "source": [
    "import numpy as np\n",
    "\n",
    "_ADD = lambda a, b: (a[0] + b[0], a[1] + b[1])\n",
    "_HEX_STEPS = np.array([(1, -1), (1, 0), (0, 1), (-1, 1), (-1, 0), (0, -1)], dtype = 'i,i')\n",
    "_CAPTURE_PATTERNS = [[_ADD(n1, n2), n1, n2] \n",
    "    for n1, n2 in \n",
    "        list(zip(_HEX_STEPS, np.roll(_HEX_STEPS, 1))) + \n",
    "        list(zip(_HEX_STEPS, np.roll(_HEX_STEPS, 2)))]\n",
    "print(_CAPTURE_PATTERNS)"
   ]
  }
 ],
 "metadata": {
  "interpreter": {
   "hash": "8bf7b242da44766e3dc212dd9b331af99b83e3ab8991605531f56818435b4131"
  },
  "kernelspec": {
   "display_name": "Python 3.8.3 ('base')",
   "language": "python",
   "name": "python3"
  },
  "language_info": {
   "codemirror_mode": {
    "name": "ipython",
    "version": 3
   },
   "file_extension": ".py",
   "mimetype": "text/x-python",
   "name": "python",
   "nbconvert_exporter": "python",
   "pygments_lexer": "ipython3",
   "version": "3.8.3"
  },
  "orig_nbformat": 4
 },
 "nbformat": 4,
 "nbformat_minor": 2
}
