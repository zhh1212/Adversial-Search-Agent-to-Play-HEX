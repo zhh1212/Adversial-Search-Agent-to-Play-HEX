{
 "cells": [
  {
   "cell_type": "code",
   "execution_count": 6,
   "metadata": {},
   "outputs": [
    {
     "name": "stdout",
     "output_type": "stream",
     "text": [
      "False\n"
     ]
    }
   ],
   "source": [
    "import numpy as np\n",
    "def neighborhood(n, cell):\n",
    "    \"\"\"\n",
    "    Function to find all the neighbours of the cell\n",
    "    \"\"\"\n",
    "    neighbors = []\n",
    "    if cell[0] + 1 < n:\n",
    "        neighbors.append((cell[0]+1, cell[1]))\n",
    "        if cell[1] - 1 >= 0:\n",
    "            neighbors.append((cell[0]+1, cell[1]-1))\n",
    "    if cell[0] - 1 >= 0:\n",
    "        neighbors.append((cell[0]-1, cell[1]))\n",
    "        if cell[1] + 1 < n:\n",
    "            neighbors.append((cell[0]-1, cell[1]+1))\n",
    "    if cell[1] + 1 < n:\n",
    "        neighbors.append((cell[0], cell[1]+1))\n",
    "    if cell[1] - 1 >= 0:\n",
    "        neighbors.append((cell[0], cell[1]-1))\n",
    "    return neighbors\n",
    "\n",
    "def traverse(board, player, move, visited):\n",
    "    if board[move[0]][move[1]] != player or (move in visited and visited[move]):\n",
    "        return False\n",
    "    # if the board edge is reached\n",
    "    if player == 2 and move[0] == len(board)-1:\n",
    "        return True\n",
    "    if player == 1 and move[1] == len(board)-1:\n",
    "        return True\n",
    "    # If not then this cell is visited\n",
    "    visited[move] = True\n",
    "    # Traverse the neighbouring cells\n",
    "    for neighbor in neighborhood(len(board), move):\n",
    "        if traverse(board, player, neighbor, visited):\n",
    "            return True\n",
    "    return False\n",
    "\n",
    "def check_winning_condition(board, player):\n",
    "    for i in range(len(board)):\n",
    "        if player == 2:\n",
    "            move = (0, i)\n",
    "        else:\n",
    "            move = (i, 0)\n",
    "        if traverse(board, player, move, {}):\n",
    "            return True\n",
    "    return False\n",
    "\n",
    "b = np.array([[1,2,1], [1,1,0],[0,0,0]])\n",
    "\n",
    "print(check_winning_condition(b, 1))"
   ]
  }
 ],
 "metadata": {
  "interpreter": {
   "hash": "8bf7b242da44766e3dc212dd9b331af99b83e3ab8991605531f56818435b4131"
  },
  "kernelspec": {
   "display_name": "Python 3.8.3 ('base')",
   "language": "python",
   "name": "python3"
  },
  "language_info": {
   "codemirror_mode": {
    "name": "ipython",
    "version": 3
   },
   "file_extension": ".py",
   "mimetype": "text/x-python",
   "name": "python",
   "nbconvert_exporter": "python",
   "pygments_lexer": "ipython3",
   "version": "3.8.3"
  },
  "orig_nbformat": 4
 },
 "nbformat": 4,
 "nbformat_minor": 2
}
